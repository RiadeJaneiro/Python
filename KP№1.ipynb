{
  "nbformat": 4,
  "nbformat_minor": 0,
  "metadata": {
    "colab": {
      "provenance": []
    },
    "kernelspec": {
      "name": "python3",
      "display_name": "Python 3"
    },
    "language_info": {
      "name": "python"
    }
  },
  "cells": [
    {
      "cell_type": "code",
      "execution_count": null,
      "metadata": {
        "colab": {
          "base_uri": "https://localhost:8080/"
        },
        "id": "wOhw2Ky0jv24",
        "outputId": "0f06431e-4314-403e-cffd-4c911d730789"
      },
      "outputs": [
        {
          "output_type": "stream",
          "name": "stdout",
          "text": [
            "5\n",
            "1\n",
            "22\n",
            "333\n",
            "4444\n"
          ]
        }
      ],
      "source": [
        "#1-1, 1 <= N <= 9\n",
        "for i in range(1, int(input())): print(i * 10**i // 9)"
      ]
    },
    {
      "cell_type": "code",
      "source": [
        "#1-2, 0 < N < 10\n",
        "for i in range(1, int(input()) + 1):\n",
        "  print(int((10**i - 1) / 9) ** 2)"
      ],
      "metadata": {
        "colab": {
          "base_uri": "https://localhost:8080/"
        },
        "id": "SDHtfWQLn6nG",
        "outputId": "4529bb14-3809-4246-aff8-0f38e771d599"
      },
      "execution_count": null,
      "outputs": [
        {
          "output_type": "stream",
          "name": "stdout",
          "text": [
            "5\n",
            "1\n",
            "121\n",
            "12321\n",
            "1234321\n",
            "123454321\n"
          ]
        }
      ]
    },
    {
      "cell_type": "code",
      "source": [
        "#1-3, 0 < len(S) < 1000\n",
        "inputString = input()\n",
        "\n",
        "capitalizedString = ' '.join([word[0].upper() + word[1:] for word in\n",
        "                              inputString.split()])\n",
        "\n",
        "print(capitalizedString)"
      ],
      "metadata": {
        "id": "UvMoLReJubxY",
        "colab": {
          "base_uri": "https://localhost:8080/"
        },
        "outputId": "357ace6b-4eaf-4407-d498-6b93342be284"
      },
      "execution_count": 76,
      "outputs": [
        {
          "output_type": "stream",
          "name": "stdout",
          "text": [
            "hello world\n",
            "Hello World\n"
          ]
        }
      ]
    }
  ]
}
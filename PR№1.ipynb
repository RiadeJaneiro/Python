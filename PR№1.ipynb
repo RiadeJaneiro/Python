{
  "nbformat": 4,
  "nbformat_minor": 0,
  "metadata": {
    "colab": {
      "provenance": []
    },
    "kernelspec": {
      "name": "python3",
      "display_name": "Python 3"
    },
    "language_info": {
      "name": "python"
    }
  },
  "cells": [
    {
      "cell_type": "code",
      "execution_count": 24,
      "metadata": {
        "id": "LDG8_L37EBw9",
        "colab": {
          "base_uri": "https://localhost:8080/"
        },
        "outputId": "a6d49ba6-9e75-4652-c648-10c49a4c6711"
      },
      "outputs": [
        {
          "output_type": "stream",
          "name": "stdout",
          "text": [
            "Введите предложение: Умом Россию не понять\n",
            "Введите направление (шифрование/дешифрование): шифрование\n",
            "Введите язык (русский/английский): русский\n",
            "Введите сдвиг: 1\n",
            "Фнпн Спттйя ож рпоауэ\n",
            "\n",
            "Learn to walk before you run.\n"
          ]
        }
      ],
      "source": [
        "def ceasar(text, direction, language, shift):\n",
        "  # Набор кириллических букв\n",
        "  if language == 'русский':\n",
        "    letters = [chr(i) for i in range(ord('а'), ord('я') + 1)]\n",
        "    lettersBig = [chr(i) for i in range(ord('А'), ord('Я') + 1)]\n",
        "  elif language == 'английский':\n",
        "    letters = [chr(i) for i in range(ord('a'), ord('z') + 1)]\n",
        "    lettersBig = [chr(i) for i in range(ord('A'), ord('Z') + 1)]\n",
        "\n",
        "  if direction == 'шифрование':\n",
        "    shift = abs(shift)\n",
        "  elif direction == 'дешифрование':\n",
        "    shift = -abs(shift)\n",
        "\n",
        "  res = ''\n",
        "  for char in text:\n",
        "    if char in letters:\n",
        "      index = letters.index(char)\n",
        "      res += letters[(index + shift) % len(letters)]\n",
        "    elif char in lettersBig:\n",
        "      index = lettersBig.index(char)\n",
        "      res += lettersBig[(index + shift) % len(lettersBig)]\n",
        "    else:\n",
        "      res += char\n",
        "\n",
        "  return res\n",
        "\n",
        "\n",
        "text = input('Введите предложение: ')\n",
        "direction = input('Введите направление (шифрование/дешифрование): ').strip().lower()\n",
        "language = input('Введите язык (русский/английский): ').strip().lower()\n",
        "shift = int(input('Введите сдвиг: '))\n",
        "\n",
        "print(ceasar(text, direction, language, shift))\n",
        "print()\n",
        "print(ceasar('Hawnj pk swhg xabkna ukq nqj.', 'дешифрование', 'английский', 22))\n"
      ]
    },
    {
      "cell_type": "code",
      "source": [
        "def ceasar(text):\n",
        "  # Набор кириллических букв\n",
        "  letters = [chr(i) for i in range(ord('a'), ord('z') + 1)]\n",
        "  lettersBig = [chr(i) for i in range(ord('A'), ord('Z') + 1)]\n",
        "\n",
        "  res = []\n",
        "  for word in text.split(' '):\n",
        "    shift = sum(1 for char in word if char.isalpha())\n",
        "    resWord = ''\n",
        "    for char in word:\n",
        "      if char in letters:\n",
        "        index = letters.index(char)\n",
        "        resWord += letters[(index + shift) % len(letters)]\n",
        "      elif char in lettersBig:\n",
        "        index = lettersBig.index(char)\n",
        "        resWord += lettersBig[(index + shift) % len(lettersBig)]\n",
        "      else:\n",
        "        resWord += char\n",
        "    res.append(resWord)\n",
        "\n",
        "  print(' '.join(res))\n",
        "\n",
        "\n",
        "text = input('Введите предложение: ')\n",
        "ceasar(text)\n",
        "print()\n",
        "ceasar('my name is Python!')"
      ],
      "metadata": {
        "colab": {
          "base_uri": "https://localhost:8080/"
        },
        "id": "401Nc5XbES8K",
        "outputId": "2a828ea8-633c-4956-9b1c-e51e33e2b555"
      },
      "execution_count": 50,
      "outputs": [
        {
          "output_type": "stream",
          "name": "stdout",
          "text": [
            "Введите предложение: Day, mice. \"Year\" is a mistake!\n",
            "Gdb, qmgi. \"Ciev\" ku b tpzahrl!\n",
            "\n",
            "oa reqi ku Veznut!\n"
          ]
        }
      ]
    }
  ]
}
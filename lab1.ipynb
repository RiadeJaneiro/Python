{
  "nbformat": 4,
  "nbformat_minor": 0,
  "metadata": {
    "colab": {
      "provenance": []
    },
    "kernelspec": {
      "name": "python3",
      "display_name": "Python 3"
    },
    "language_info": {
      "name": "python"
    }
  },
  "cells": [
    {
      "cell_type": "code",
      "execution_count": null,
      "metadata": {
        "colab": {
          "base_uri": "https://localhost:8080/",
          "height": 35
        },
        "id": "1E2MhiKaDG2i",
        "outputId": "bde915d1-0b93-4fb1-bcf4-e47d7ec04e0d"
      },
      "outputs": [
        {
          "output_type": "execute_result",
          "data": {
            "text/plain": [
              "'ip nat inside source list ACL interface GigabitEthernet0/1 overload'"
            ],
            "application/vnd.google.colaboratory.intrinsic+json": {
              "type": "string"
            }
          },
          "metadata": {},
          "execution_count": 1
        }
      ],
      "source": [
        "#3.1\n",
        "NAT = \"ip nat inside source list ACL interface FastEthernet0/1 overload\"\n",
        "NAT.replace('Fast', 'Gigabit')"
      ]
    },
    {
      "cell_type": "code",
      "source": [
        "#3.2\n",
        "MAC = 'AAAA:BBBB:CCCC'\n",
        "MAC.replace(':', '.')"
      ],
      "metadata": {
        "colab": {
          "base_uri": "https://localhost:8080/",
          "height": 35
        },
        "id": "hsfpFCLxDI7D",
        "outputId": "ba00554b-bad5-46c3-ab65-76589d19ed87"
      },
      "execution_count": null,
      "outputs": [
        {
          "output_type": "execute_result",
          "data": {
            "text/plain": [
              "'AAAA.BBBB.CCCC'"
            ],
            "application/vnd.google.colaboratory.intrinsic+json": {
              "type": "string"
            }
          },
          "metadata": {},
          "execution_count": 2
        }
      ]
    },
    {
      "cell_type": "code",
      "source": [
        "#3.3\n",
        "CONFIG = 'switchport trunk allowed vlan 1,3,10,20,30,100'\n",
        "command = CONFIG.split()\n",
        "vlans = command[-1].split(',')\n",
        "vlans"
      ],
      "metadata": {
        "colab": {
          "base_uri": "https://localhost:8080/"
        },
        "id": "6iQfDjnbF2Jz",
        "outputId": "d4ca3b0b-0aa5-448c-9e94-a62d5457ffa9"
      },
      "execution_count": null,
      "outputs": [
        {
          "output_type": "execute_result",
          "data": {
            "text/plain": [
              "['1', '3', '10', '20', '30', '100']"
            ]
          },
          "metadata": {},
          "execution_count": 13
        }
      ]
    },
    {
      "cell_type": "code",
      "source": [
        "#3.4\n",
        "command1 = 'switchport trunk allowed vlan 1,3,10,20,30,100'\n",
        "command2 = 'switchport trunk allowed vlan 1,3,100,200,300'\n",
        "c1 = command1.split()\n",
        "c2 = command2.split()\n",
        "vlans1 = c1[-1].split(',')\n",
        "vlans2 = c2[-1].split(',')\n",
        "list(set(vlans1) & set(vlans2))"
      ],
      "metadata": {
        "colab": {
          "base_uri": "https://localhost:8080/"
        },
        "id": "YHCAwLu-L4Z5",
        "outputId": "f49318ea-b28d-4066-b946-47714a210221"
      },
      "execution_count": null,
      "outputs": [
        {
          "output_type": "execute_result",
          "data": {
            "text/plain": [
              "['3', '100', '1']"
            ]
          },
          "metadata": {},
          "execution_count": 8
        }
      ]
    },
    {
      "cell_type": "code",
      "source": [
        "#3.6\n",
        "ospf_route = 'OSPF 10.0.24.0/24 [110/41] via 10.0.13.3, 3d18h, FastEthernet0/0'\n",
        "ospf_route_keys = ['Protocol:', 'Prefix:', 'AD/Metric:', 'Next-Hop:',\n",
        "                   'Last update:', 'Outbound Interface:']\n",
        "ospf_route_values = ospf_route.split()\n",
        "print(\"%-25s %-10s\" % (ospf_route_keys[0], ospf_route_values[0]))\n",
        "print(\"%-25s %-10s\" % (ospf_route_keys[1], ospf_route_values[1]))\n",
        "print(\"%-25s %-10s\" % (ospf_route_keys[2], ospf_route_values[2][1:-1]))\n",
        "print(\"%-25s %-10s\" % (ospf_route_keys[3], ospf_route_values[4][:-1]))\n",
        "print(\"%-25s %-10s\" % (ospf_route_keys[4], ospf_route_values[5][:-1]))\n",
        "print(\"%-25s %-10s\" % (ospf_route_keys[5], ospf_route_values[6]))\n"
      ],
      "metadata": {
        "colab": {
          "base_uri": "https://localhost:8080/"
        },
        "id": "99ZXAWOaU7TX",
        "outputId": "c4c29abf-a44a-40d5-a1ef-6e76ba4dc9ce"
      },
      "execution_count": null,
      "outputs": [
        {
          "output_type": "stream",
          "name": "stdout",
          "text": [
            "Protocol:                 OSPF      \n",
            "Prefix:                   10.0.24.0/24\n",
            "AD/Metric:                110/41    \n",
            "Next-Hop:                 10.0.13.3 \n",
            "Last update:              3d18h     \n",
            "Outbound Interface:       FastEthernet0/0\n"
          ]
        }
      ]
    },
    {
      "cell_type": "code",
      "source": [
        "#3.7\n",
        "MAC = 'AAAA:BBBB:CCCC'\n",
        "bin(int(MAC.replace(':', ''), 16))"
      ],
      "metadata": {
        "colab": {
          "base_uri": "https://localhost:8080/",
          "height": 35
        },
        "id": "6YaP9TkaYUvy",
        "outputId": "64388ef1-1598-4f12-f195-c5d447f84eb4"
      },
      "execution_count": null,
      "outputs": [
        {
          "output_type": "execute_result",
          "data": {
            "text/plain": [
              "'0b101010101010101010111011101110111100110011001100'"
            ],
            "application/vnd.google.colaboratory.intrinsic+json": {
              "type": "string"
            }
          },
          "metadata": {},
          "execution_count": 85
        }
      ]
    },
    {
      "cell_type": "code",
      "source": [
        "#3.8\n",
        "IP = '192.168.3.1'\n",
        "IP1, IP2, IP3, IP4 = IP.split('.')\n",
        "print(\"%-10s %-10s %-10s %-10s\" % (IP1, IP2, IP3, IP4))\n",
        "print(\"%-10s %-10s %-10s %-10s\" % (bin(int(IP1))[2:].zfill(10),\n",
        "                               bin(int(IP2))[2:].zfill(10),\n",
        "                               bin(int(IP3))[2:].zfill(10),\n",
        "                               bin(int(IP4))[2:].zfill(10)))"
      ],
      "metadata": {
        "colab": {
          "base_uri": "https://localhost:8080/"
        },
        "id": "e_8rwQj_ROGZ",
        "outputId": "8296d980-0dd4-4514-d87a-8c8563ef4a23"
      },
      "execution_count": null,
      "outputs": [
        {
          "output_type": "stream",
          "name": "stdout",
          "text": [
            "192        168        3          1         \n",
            "0011000000 0010101000 0000000011 0000000001\n"
          ]
        }
      ]
    }
  ]
}
{
  "nbformat": 4,
  "nbformat_minor": 0,
  "metadata": {
    "colab": {
      "provenance": []
    },
    "kernelspec": {
      "name": "python3",
      "display_name": "Python 3"
    },
    "language_info": {
      "name": "python"
    }
  },
  "cells": [
    {
      "cell_type": "code",
      "execution_count": null,
      "metadata": {
        "colab": {
          "base_uri": "https://localhost:8080/"
        },
        "id": "JUX6krKRGrlZ",
        "outputId": "9e8eea56-f7f4-4152-e3a6-d09d7169a98b"
      },
      "outputs": [
        {
          "output_type": "stream",
          "name": "stdout",
          "text": [
            "Enter IP (10.0.1.1): 0\n",
            "unused\n"
          ]
        }
      ],
      "source": [
        "#5.1\n",
        "IP = input('Enter IP (10.0.1.1): ')\n",
        "octets = IP.split('.')\n",
        "if (int(octets[0]) >= 1) and (int(octets[0]) <= 223):\n",
        "  print('unicast')\n",
        "elif (int(octets[0]) >= 224) and (int(octets[0]) <= 239):\n",
        "  print('multicast')\n",
        "elif IP == '255.255.255.255':\n",
        "  print('local broadcast')\n",
        "elif IP == '0.0.0.0':\n",
        "  print('unassigned')\n",
        "else:\n",
        "  print('unused')"
      ]
    },
    {
      "cell_type": "code",
      "source": [
        "#5.1a\n",
        "IP = input('Enter IP (10.0.1.1): ')\n",
        "octets = IP.split('.')\n",
        "if (len(octets) == 4 and int(octets[0]) >= 0 and int(octets[0]) <= 255 and\n",
        "      int(octets[1]) >= 0 and int(octets[1]) <= 255 and\n",
        "      int(octets[2]) >= 0 and int(octets[2]) <= 255 and\n",
        "      int(octets[3]) >= 0 and int(octets[3]) <= 255):\n",
        "  if (int(octets[0]) >= 1) and (int(octets[0]) <= 223):\n",
        "    print('unicast')\n",
        "  elif (int(octets[0]) >= 224) and (int(octets[0]) <= 239):\n",
        "    print('multicast')\n",
        "  elif IP == '255.255.255.255':\n",
        "    print('local broadcast')\n",
        "  elif IP == '0.0.0.0':\n",
        "    print('unassigned')\n",
        "  else:\n",
        "    print('unused')\n",
        "else:\n",
        "  print(\"Incorrect IPv4 address\")"
      ],
      "metadata": {
        "colab": {
          "base_uri": "https://localhost:8080/"
        },
        "id": "g0ScFCDMYUEM",
        "outputId": "e8724cde-1e7f-4b8c-922e-aac4fd7e40e0"
      },
      "execution_count": null,
      "outputs": [
        {
          "output_type": "stream",
          "name": "stdout",
          "text": [
            "Enter IP (10.0.1.1): 0.0.0.0\n",
            "Incorrect IPv4 address\n"
          ]
        }
      ]
    },
    {
      "cell_type": "code",
      "source": [
        "#5.1b\n",
        "IP = input('Enter IP (10.0.1.1): ')\n",
        "\n",
        "while True:\n",
        "  octets = IP.split('.')\n",
        "  if (len(octets) == 4 and int(octets[0]) >= 0 and int(octets[0]) <= 255 and\n",
        "      int(octets[1]) >= 0 and int(octets[1]) <= 255 and\n",
        "      int(octets[2]) >= 0 and int(octets[2]) <= 255 and\n",
        "      int(octets[3]) >= 0 and int(octets[3]) <= 255):\n",
        "    if (int(octets[0]) >= 1) and (int(octets[0]) <= 223):\n",
        "      print('unicast')\n",
        "    elif (int(octets[0]) >= 224) and (int(octets[0]) <= 239):\n",
        "      print('multicast')\n",
        "    elif IP == '255.255.255.255':\n",
        "      print('local broadcast')\n",
        "    elif IP == '0.0.0.0':\n",
        "      print('unassigned')\n",
        "    else:\n",
        "      print('unused')\n",
        "    break\n",
        "  else:\n",
        "    print('Incorrect IPv4 address')\n",
        "    IP = input('Enter IP again (10.0.1.1): ')\n",
        "    octets = IP.split('.')"
      ],
      "metadata": {
        "id": "QROynv-daOWy",
        "colab": {
          "base_uri": "https://localhost:8080/"
        },
        "outputId": "3f7058fb-8f82-4ced-90e7-3cb3b0f45455"
      },
      "execution_count": null,
      "outputs": [
        {
          "output_type": "stream",
          "name": "stdout",
          "text": [
            "Enter IP (10.0.1.1): 1\n",
            "Incorrect IPv4 address\n",
            "Enter IP again (10.0.1.1): 1.1.1.1\n",
            "unicast\n"
          ]
        }
      ]
    },
    {
      "cell_type": "code",
      "source": [
        "#5.2\n",
        "mac = ['aabb:cc80:7000', 'aabb:dd80:7340', 'aabb:ee80:7000', 'aabb:ff80:7000']\n",
        "mac_cisco = []\n",
        "for i in mac:\n",
        "  mac_cisco.append(i.replace(\":\", \".\"))\n",
        "print(mac_cisco)"
      ],
      "metadata": {
        "colab": {
          "base_uri": "https://localhost:8080/"
        },
        "id": "Nmk71RRLaN-7",
        "outputId": "962885f0-4594-4ac0-c9c4-1fff3c604c8b"
      },
      "execution_count": null,
      "outputs": [
        {
          "output_type": "stream",
          "name": "stdout",
          "text": [
            "['aabb.cc80.7000', 'aabb.dd80.7340', 'aabb.ee80.7000', 'aabb.ff80.7000']\n"
          ]
        }
      ]
    },
    {
      "cell_type": "code",
      "source": [
        "#5.3\n",
        "access_template = ['switchport mode access',\n",
        "                   'switchport access vlan',\n",
        "                   'spanning-tree portfast',\n",
        "                   'spanning-tree bpduguard enable']\n",
        "\n",
        "trunk_template = ['switchport trunk encapsulation dot1q',\n",
        "                  'switchport mode trunk',\n",
        "                  'switchport trunk allowed vlan']\n",
        "\n",
        "fast_int = {'access':{'0/12':'10','0/14':'11','0/16':'17','0/17':'150'},\n",
        "            'trunk':{'0/1':['add','10','20'],\n",
        "                     '0/2':['only','11','30'],\n",
        "                     '0/4':['del','17']} }\n",
        "\n",
        "for intf, vlan in fast_int['access'].items():\n",
        "  print('interface FastEthernet' + intf)\n",
        "  for command in access_template:\n",
        "    if command.endswith('access vlan'):\n",
        "      print(' {} {}'.format(command, vlan))\n",
        "    else:\n",
        "      print(' {}'.format(command))\n",
        "\n",
        "print()\n",
        "\n",
        "for intf, vlan in fast_int['trunk'].items():\n",
        "  print('interface FastEthernet' + intf)\n",
        "  for command in trunk_template:\n",
        "    if command.endswith('allowed vlan'):\n",
        "      if vlan[0] == 'add':\n",
        "        print(' {} {} {},{}'.format(command, vlan[0], vlan[1], vlan[2]))\n",
        "      elif vlan[0] == 'del':\n",
        "        print(' {} remove {}'.format(command, vlan[1]))\n",
        "      elif vlan[0] == 'only':\n",
        "        print(' {} {},{}'.format(command, vlan[1], vlan[2]))\n",
        "    else:\n",
        "      print(' {}'.format(command))"
      ],
      "metadata": {
        "colab": {
          "base_uri": "https://localhost:8080/"
        },
        "id": "LxgRY9ZWf9cR",
        "outputId": "21387904-ca69-4209-c6fb-11a9d3b8e255"
      },
      "execution_count": null,
      "outputs": [
        {
          "output_type": "stream",
          "name": "stdout",
          "text": [
            "interface FastEthernet0/12\n",
            " switchport mode access\n",
            " switchport access vlan 10\n",
            " spanning-tree portfast\n",
            " spanning-tree bpduguard enable\n",
            "interface FastEthernet0/14\n",
            " switchport mode access\n",
            " switchport access vlan 11\n",
            " spanning-tree portfast\n",
            " spanning-tree bpduguard enable\n",
            "interface FastEthernet0/16\n",
            " switchport mode access\n",
            " switchport access vlan 17\n",
            " spanning-tree portfast\n",
            " spanning-tree bpduguard enable\n",
            "interface FastEthernet0/17\n",
            " switchport mode access\n",
            " switchport access vlan 150\n",
            " spanning-tree portfast\n",
            " spanning-tree bpduguard enable\n",
            "\n",
            "interface FastEthernet0/1\n",
            " switchport trunk encapsulation dot1q\n",
            " switchport mode trunk\n",
            " switchport trunk allowed vlan add 10,20\n",
            "interface FastEthernet0/2\n",
            " switchport trunk encapsulation dot1q\n",
            " switchport mode trunk\n",
            " switchport trunk allowed vlan 11,30\n",
            "interface FastEthernet0/4\n",
            " switchport trunk encapsulation dot1q\n",
            " switchport mode trunk\n",
            " switchport trunk allowed vlan remove 17\n"
          ]
        }
      ]
    }
  ]
}
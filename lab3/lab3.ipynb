{
  "nbformat": 4,
  "nbformat_minor": 0,
  "metadata": {
    "colab": {
      "provenance": []
    },
    "kernelspec": {
      "name": "python3",
      "display_name": "Python 3"
    },
    "language_info": {
      "name": "python"
    }
  },
  "cells": [
    {
      "cell_type": "code",
      "execution_count": null,
      "metadata": {
        "colab": {
          "base_uri": "https://localhost:8080/"
        },
        "id": "mooBQuA5k9BL",
        "outputId": "a96c12e3-6f5b-4ab5-f8ba-e3e2e67e9959",
        "collapsed": true
      },
      "outputs": [
        {
          "output_type": "stream",
          "name": "stdout",
          "text": [
            "Protocol: OSPF Prefix: 10.0.24.0/24 AD/Metric: 110/41 Next-Hop: 10.0.13.3 Last update: 3d18h Outbound Interface: FastEthernet0/0\n",
            "\n",
            "Protocol: OSPF Prefix: 10.0.28.0/24 AD/Metric: 110/31 Next-Hop: 10.0.13.3 Last update: 3d20h Outbound Interface: FastEthernet0/0\n",
            "\n",
            "Protocol: OSPF Prefix: 10.0.37.0/24 AD/Metric: 110/11 Next-Hop: 10.0.13.3 Last update: 3d20h Outbound Interface: FastEthernet0/0\n",
            "\n",
            "Protocol: OSPF Prefix: 10.0.41.0/24 AD/Metric: 110/51 Next-Hop: 10.0.13.3 Last update: 3d20h Outbound Interface: FastEthernet0/0\n",
            "\n",
            "Protocol: OSPF Prefix: 10.0.78.0/24 AD/Metric: 110/21 Next-Hop: 10.0.13.3 Last update: 3d20h Outbound Interface: FastEthernet0/0\n",
            "\n",
            "Protocol: OSPF Prefix: 10.0.79.0/24 AD/Metric: 110/20 Next-Hop: 10.0.19.9 Last update: 4d02h Outbound Interface: FastEthernet0/2\n",
            "\n",
            "Protocol: OSPF Prefix: 10.0.81.0/24 AD/Metric: 110/41 Next-Hop: 10.0.13.3 Last update: 3d20h Outbound Interface: FastEthernet0/0\n",
            "\n",
            "Protocol: OSPF Prefix: 10.0.91.0/24 AD/Metric: 110/60 Next-Hop: 10.0.19.9 Last update: 3d19h Outbound Interface: FastEthernet0/2\n",
            "\n"
          ]
        }
      ],
      "source": [
        "#6.1\n",
        "ospf_route_keys = ['Protocol:', 'Prefix:', 'AD/Metric:', 'Next-Hop:',\n",
        "                   'Last update:', 'Outbound Interface:']\n",
        "\n",
        "with open('ospf.txt') as f:\n",
        "  for line in f:\n",
        "    ospf_route_values = line.split()\n",
        "\n",
        "    if not ospf_route_values:\n",
        "      continue\n",
        "\n",
        "    print(ospf_route_keys[0], ospf_route_values[0] + \"SPF\",\n",
        "          ospf_route_keys[1], ospf_route_values[1],\n",
        "          ospf_route_keys[2], ospf_route_values[2][1:-1],\n",
        "          ospf_route_keys[3], ospf_route_values[4][:-1],\n",
        "          ospf_route_keys[4], ospf_route_values[5][:-1],\n",
        "          ospf_route_keys[5], ospf_route_values[6])\n",
        "    print()"
      ]
    },
    {
      "cell_type": "code",
      "source": [
        "#6.2\n",
        "with open('config_sw1.txt') as f:\n",
        "  for line in f:\n",
        "    cleanLine = line.strip()\n",
        "\n",
        "    if not cleanLine or cleanLine.startswith('!'):\n",
        "      continue\n",
        "    print(cleanLine)"
      ],
      "metadata": {
        "colab": {
          "base_uri": "https://localhost:8080/"
        },
        "id": "wpkva4zrsqyI",
        "outputId": "8312f8e8-3a0b-4153-ba2d-3053b5969c3d",
        "collapsed": true
      },
      "execution_count": null,
      "outputs": [
        {
          "output_type": "stream",
          "name": "stdout",
          "text": [
            "Current configuration : 2033 bytes\n",
            "version 15.0\n",
            "service timestamps debug datetime msec\n",
            "service timestamps log datetime msec\n",
            "no service password-encryption\n",
            "hostname sw1\n",
            "interface Ethernet0/0\n",
            "duplex auto\n",
            "interface Ethernet0/1\n",
            "switchport trunk encapsulation dot1q\n",
            "switchport trunk allowed vlan 100\n",
            "switchport mode trunk\n",
            "duplex auto\n",
            "spanning-tree portfast edge trunk\n",
            "interface Ethernet0/2\n",
            "duplex auto\n",
            "interface Ethernet0/3\n",
            "switchport trunk encapsulation dot1q\n",
            "switchport trunk allowed vlan 100\n",
            "duplex auto\n",
            "switchport mode trunk\n",
            "spanning-tree portfast edge trunk\n",
            "interface Ethernet1/0\n",
            "duplex auto\n",
            "interface Ethernet1/1\n",
            "duplex auto\n",
            "interface Ethernet1/2\n",
            "duplex auto\n",
            "interface Ethernet1/3\n",
            "duplex auto\n",
            "interface Vlan100\n",
            "ip address 10.0.100.1 255.255.255.0\n",
            "alias configure sh do sh\n",
            "alias exec ospf sh run | s ^router ospf\n",
            "alias exec bri show ip int bri | exc unass\n",
            "alias exec id show int desc\n",
            "alias exec top sh proc cpu sorted | excl 0.00%__0.00%__0.00%\n",
            "alias exec c conf t\n",
            "alias exec diff sh archive config differences nvram:startup-config system:running-config\n",
            "alias exec shcr sh run | s ^crypto\n",
            "alias exec desc sh int desc | ex down\n",
            "alias exec bgp sh run | s ^router bgp\n",
            "alias exec xc sh xconnect all\n",
            "alias exec vc sh mpls l2tr vc\n",
            "line con 0\n",
            "exec-timeout 0 0\n",
            "privilege level 15\n",
            "logging synchronous\n",
            "line aux 0\n",
            "line vty 0 4\n",
            "login\n",
            "transport input all\n",
            "end\n"
          ]
        }
      ]
    },
    {
      "cell_type": "code",
      "source": [
        "#6.2a\n",
        "ignore = ['duplex', 'alias', 'Current configuration']\n",
        "\n",
        "with open('config_sw1.txt') as f:\n",
        "  for line in f:\n",
        "    cleanLine = line.strip()\n",
        "\n",
        "    if not cleanLine or cleanLine.startswith('!'):\n",
        "      continue\n",
        "\n",
        "    for word in ignore:\n",
        "      if word in cleanLine:\n",
        "        break\n",
        "    else:\n",
        "      print(cleanLine)"
      ],
      "metadata": {
        "colab": {
          "base_uri": "https://localhost:8080/"
        },
        "collapsed": true,
        "id": "OgkU8cVOhFII",
        "outputId": "71239fe9-2743-4abe-cf7e-c22ccfe6debb"
      },
      "execution_count": null,
      "outputs": [
        {
          "output_type": "stream",
          "name": "stdout",
          "text": [
            "duplex\n",
            "alias\n",
            "Current configuration\n",
            "version 15.0\n",
            "service timestamps debug datetime msec\n",
            "service timestamps log datetime msec\n",
            "no service password-encryption\n",
            "hostname sw1\n",
            "interface Ethernet0/0\n",
            "interface Ethernet0/1\n",
            "switchport trunk encapsulation dot1q\n",
            "switchport trunk allowed vlan 100\n",
            "switchport mode trunk\n",
            "spanning-tree portfast edge trunk\n",
            "interface Ethernet0/2\n",
            "interface Ethernet0/3\n",
            "switchport trunk encapsulation dot1q\n",
            "switchport trunk allowed vlan 100\n",
            "switchport mode trunk\n",
            "spanning-tree portfast edge trunk\n",
            "interface Ethernet1/0\n",
            "interface Ethernet1/1\n",
            "interface Ethernet1/2\n",
            "interface Ethernet1/3\n",
            "interface Vlan100\n",
            "ip address 10.0.100.1 255.255.255.0\n",
            "line con 0\n",
            "exec-timeout 0 0\n",
            "privilege level 15\n",
            "logging synchronous\n",
            "line aux 0\n",
            "line vty 0 4\n",
            "login\n",
            "transport input all\n",
            "end\n"
          ]
        }
      ]
    },
    {
      "cell_type": "code",
      "source": [
        "#6.2b\n",
        "ignore = ['duplex', 'alias', 'Current configuration']\n",
        "\n",
        "with open('config_sw1.txt') as f, open('config_sw1_cleared.txt', 'w') as f2:\n",
        "  for line in f:\n",
        "    cleanLine = line.strip()\n",
        "\n",
        "    if not cleanLine:\n",
        "      continue\n",
        "\n",
        "    for word in ignore:\n",
        "      if word in cleanLine:\n",
        "        break\n",
        "    else:\n",
        "      f2.write(cleanLine + '\\n')\n",
        "\n",
        "print('File confit_sw1_cleares.txt:')\n",
        "with open('config_sw1_cleared.txt', 'r') as f2:\n",
        "  print(f2.read())"
      ],
      "metadata": {
        "id": "Xx6Ru9ZOsYNr",
        "colab": {
          "base_uri": "https://localhost:8080/"
        },
        "collapsed": true,
        "outputId": "703a7f52-89ad-4fdb-98d9-1d954dfcb228"
      },
      "execution_count": null,
      "outputs": [
        {
          "output_type": "stream",
          "name": "stdout",
          "text": [
            "File confit_sw1_cleares.txt:\n",
            "!\n",
            "! Last configuration change at 13:11:59 UTC Thu Feb 25 2016\n",
            "!\n",
            "version 15.0\n",
            "service timestamps debug datetime msec\n",
            "service timestamps log datetime msec\n",
            "no service password-encryption\n",
            "!\n",
            "hostname sw1\n",
            "!\n",
            "!\n",
            "!\n",
            "!\n",
            "!\n",
            "!\n",
            "!\n",
            "!\n",
            "!\n",
            "!\n",
            "!\n",
            "interface Ethernet0/0\n",
            "!\n",
            "interface Ethernet0/1\n",
            "switchport trunk encapsulation dot1q\n",
            "switchport trunk allowed vlan 100\n",
            "switchport mode trunk\n",
            "spanning-tree portfast edge trunk\n",
            "!\n",
            "interface Ethernet0/2\n",
            "!\n",
            "interface Ethernet0/3\n",
            "switchport trunk encapsulation dot1q\n",
            "switchport trunk allowed vlan 100\n",
            "switchport mode trunk\n",
            "spanning-tree portfast edge trunk\n",
            "!\n",
            "interface Ethernet1/0\n",
            "!\n",
            "interface Ethernet1/1\n",
            "!\n",
            "interface Ethernet1/2\n",
            "!\n",
            "interface Ethernet1/3\n",
            "!\n",
            "interface Vlan100\n",
            "ip address 10.0.100.1 255.255.255.0\n",
            "!\n",
            "!\n",
            "!\n",
            "line con 0\n",
            "exec-timeout 0 0\n",
            "privilege level 15\n",
            "logging synchronous\n",
            "line aux 0\n",
            "line vty 0 4\n",
            "login\n",
            "transport input all\n",
            "!\n",
            "end\n",
            "\n"
          ]
        }
      ]
    },
    {
      "cell_type": "code",
      "source": [
        "#6.3\n",
        "with open('CAM_table.txt', 'r') as f:\n",
        "  for line in f:\n",
        "    cleanLine = line.strip()\n",
        "\n",
        "    if '.' in cleanLine:\n",
        "      columns = cleanLine.split()\n",
        "      print('%-6s %-15s %7s' % (columns[0], columns[1], columns[3]))"
      ],
      "metadata": {
        "colab": {
          "base_uri": "https://localhost:8080/"
        },
        "id": "pk8cHNa6tUbL",
        "outputId": "71deeed4-914b-4f5b-f11c-b3d0dba4161a"
      },
      "execution_count": null,
      "outputs": [
        {
          "output_type": "stream",
          "name": "stdout",
          "text": [
            "100    01bb.c580.7000    Gi0/1\n",
            "200    0a4b.c380.7000    Gi0/2\n",
            "300    a2ab.c5a0.7000    Gi0/3\n",
            "100    0a1b.1c80.7000    Gi0/4\n",
            "500    02b1.3c80.7000    Gi0/5\n",
            "200    1a4b.c580.7000    Gi0/6\n",
            "300    0a1b.5c80.7000    Gi0/7\n"
          ]
        }
      ]
    },
    {
      "cell_type": "code",
      "source": [
        "#6.3b\n",
        "print('Enter tne number of VLAN: ')\n",
        "numVlan = input()\n",
        "\n",
        "with open('CAM_table.txt', 'r') as f:\n",
        "  for line in f:\n",
        "    cleanLine = line.strip()\n",
        "\n",
        "    if '.' in cleanLine:\n",
        "      columns = cleanLine.split()\n",
        "      if columns[0] == numVlan:\n",
        "        print('%-6s %-15s %7s' % (columns[0], columns[1], columns[3]))"
      ],
      "metadata": {
        "colab": {
          "base_uri": "https://localhost:8080/"
        },
        "id": "YgcfoP0Lx-dz",
        "outputId": "291fc1f6-cbdb-4f95-9eee-34d0a1c4f4f5"
      },
      "execution_count": null,
      "outputs": [
        {
          "output_type": "stream",
          "name": "stdout",
          "text": [
            "Enter tne number of VLAN: \n",
            "500\n",
            "500    02b1.3c80.7000    Gi0/5\n"
          ]
        }
      ]
    }
  ]
}
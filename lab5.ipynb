{
  "nbformat": 4,
  "nbformat_minor": 0,
  "metadata": {
    "colab": {
      "provenance": []
    },
    "kernelspec": {
      "name": "python3",
      "display_name": "Python 3"
    },
    "language_info": {
      "name": "python"
    }
  },
  "cells": [
    {
      "cell_type": "code",
      "execution_count": null,
      "metadata": {
        "colab": {
          "base_uri": "https://localhost:8080/"
        },
        "id": "b5cofwnZER0G",
        "outputId": "b67df4f1-f8c1-45ec-ee9c-f8c58d8854f1"
      },
      "outputs": [
        {
          "output_type": "stream",
          "name": "stdout",
          "text": [
            "4123456789123456\n",
            "Valid\n"
          ]
        }
      ],
      "source": [
        "import re\n",
        "\n",
        "def valid_card(card_number):\n",
        "  # must start with 4, 5 or 6\n",
        "  if not re.match(r'^[4-6]', card_number):\n",
        "    return False\n",
        "\n",
        "  # must contains exactly digits\n",
        "  if not re.match(r'^[\\d-]+$', card_number):\n",
        "    return False\n",
        "\n",
        "  # may have digits in groups of , separated by one hyphen '-'\n",
        "  if '-' in card_number:\n",
        "    groups = card_number.split('-')\n",
        "    if any(len(group) != 4 for group in groups):\n",
        "      return False\n",
        "\n",
        "  #\n",
        "  card_clean = card_number.replace('-', '')\n",
        "  if len(card_clean) != 16:\n",
        "    return False\n",
        "\n",
        "  #\n",
        "  if re.search(r'(\\d)\\1{3,}', card_clean):\n",
        "    return False\n",
        "\n",
        "  return True\n",
        "\n",
        "\n",
        "card_number = input()\n",
        "if valid_card(card_number):\n",
        "  print('Valid')\n",
        "else:\n",
        "  print('Invalid')\n"
      ]
    }
  ]
}